{
 "cells": [
  {
   "cell_type": "code",
   "execution_count": 24,
   "metadata": {},
   "outputs": [],
   "source": [
    "import pandas as pd\n",
    "import numpy as np\n",
    "import yaml\n",
    "import logging\n",
    "import matplotlib.pyplot as plt\n",
    "from scipy.optimize import curve_fit\n",
    "from utilities.utilities import read_ac_data, add_gdp_cdd_data\n",
    "from utilities.plotting import plot_exposure_contour"
   ]
  },
  {
   "cell_type": "code",
   "execution_count": 25,
   "metadata": {},
   "outputs": [],
   "source": [
    "# Load configuration from config.yaml\n",
    "with open(\"config.yaml\", \"r\") as f:\n",
    "    config = yaml.safe_load(f)\n",
    "\n",
    "# Set logging level\n",
    "logging.basicConfig(level=config[\"logging_level\"])"
   ]
  },
  {
   "cell_type": "code",
   "execution_count": 26,
   "metadata": {},
   "outputs": [
    {
     "name": "stdout",
     "output_type": "stream",
     "text": [
      "           country      AC  Year ISO3          CDD           GDP\n",
      "0            Japan  0.9100  2018  JPN   718.437579  41763.820469\n",
      "1    United States  0.9000  2018  USA   953.886271  61348.456596\n",
      "2            Korea  0.8600  2018  KOR   674.351968  41965.890535\n",
      "3     Saudi Arabia  0.6300  2018  SAU  3196.215539  47714.112577\n",
      "4            China  0.6000  2018  CHN  1072.972610  15133.995618\n",
      "..             ...     ...   ...  ...          ...           ...\n",
      "110        Uruguay  0.2870  2013  URY   435.940891  22077.448301\n",
      "111        Vietnam  0.0448  2006  VNM  2447.287701   5186.432065\n",
      "112        Vietnam  0.0926  2010  VNM  2559.902685   6324.525636\n",
      "113        Vietnam  0.1498  2014  VNM  2458.675875   7641.909252\n",
      "117         Zambia  0.0199  2018  ZMB  1380.588720   3425.948936\n",
      "\n",
      "[111 rows x 6 columns]\n"
     ]
    }
   ],
   "source": [
    "# Read the air conditioning data from the EIA and GDL\n",
    "\n",
    "# EIA data of AC access from 2018\n",
    "ac_data_eia = read_ac_data(config['ac_historical_file_iea'], 2018, skip=3)\n",
    "\n",
    "# GDL data from multiple years\n",
    "ac_data_gdl = read_ac_data(config['ac_historical_file_gdl'])\n",
    "\n",
    "# Merge the two dataframes\n",
    "ac_data = pd.concat([ac_data_eia, ac_data_gdl])\n",
    "\n",
    "\n",
    "ac_data = add_gdp_cdd_data(ac_data, config)\n",
    "ac_data = ac_data.dropna()\n",
    "ac_data[\"GDP\"] = pd.to_numeric(ac_data[\"GDP\"], errors='coerce')\n",
    "print(ac_data)\n",
    "# Add GDP and CDD data to the ac_df dataframe for the respective year and country\n"
   ]
  },
  {
   "cell_type": "code",
   "execution_count": 43,
   "metadata": {},
   "outputs": [
    {
     "name": "stdout",
     "output_type": "stream",
     "text": [
      "[72.16651339  2.67877601  0.83494695]\n"
     ]
    }
   ],
   "source": [
    "def sat(cdd, a):\n",
    "    return 1. - np.exp(-a * cdd)\n",
    "\n",
    "# Corrected avail function\n",
    "def avail(gdp, b, c):\n",
    "    return 1 / (1 + np.exp(b) * np.exp(-c * gdp))\n",
    "\n",
    "# Adjusted exposure function to fit the curve_fit requirements\n",
    "def exposure(xdata, a, b, c):\n",
    "    cdd, gdp = xdata\n",
    "    return (sat(cdd, a) * avail(gdp, b, c))\n",
    "\n",
    "def fit_log_exposure(xdata, a, b, c):\n",
    "    cdd, gdp = xdata\n",
    "    return np.log(sat(cdd, a) * avail(gdp, b, c))\n",
    "\n",
    "def minimize_exposure(p, xdata, ydata):\n",
    "    return abs(np.sum((exposure(xdata, *p) - ydata)**2))\n",
    "\n",
    "# Prepare xdata as a tuple of CDD and GDP, ydata as AC\n",
    "xdata = (ac_data[\"CDD\"]/1000., ac_data[\"GDP\"]/10000.)\n",
    "ydata = ac_data[\"AC\"]\n",
    "\n",
    "# Fit the exposure function\n",
    "# popt, pcov = curve_fit(exposure, xdata, ydata, p0=[5., 3., 1.])\n",
    "# print(popt)\n",
    "\n",
    "# Minimize\n",
    "from scipy.optimize import minimize\n",
    "p0 = [5., 3., 1.]\n",
    "minimize(minimize_exposure, p0, args=(xdata, ydata))\n",
    "popt = minimize(minimize_exposure, p0, args=(xdata, ydata)).x\n",
    "print(popt)"
   ]
  },
  {
   "cell_type": "code",
   "execution_count": 40,
   "metadata": {},
   "outputs": [
    {
     "name": "stdout",
     "output_type": "stream",
     "text": [
      "[7.98828735e-02 2.13964139e+00 1.33132126e-04]\n"
     ]
    }
   ],
   "source": [
    "popt[0] /= 1000\n",
    "popt[2] /= 10000\n",
    "print(popt)"
   ]
  },
  {
   "cell_type": "code",
   "execution_count": 41,
   "metadata": {},
   "outputs": [
    {
     "name": "stdout",
     "output_type": "stream",
     "text": [
      "0      41763.820469\n",
      "1      61348.456596\n",
      "2      41965.890535\n",
      "3      47714.112577\n",
      "4      15133.995618\n",
      "           ...     \n",
      "110    22077.448301\n",
      "111     5186.432065\n",
      "112     6324.525636\n",
      "113     7641.909252\n",
      "117     3425.948936\n",
      "Name: GDP, Length: 111, dtype: float64\n",
      "           country      AC  Year ISO3          CDD           GDP  \\\n",
      "0            Japan  0.9100  2018  JPN   718.437579  41763.820469   \n",
      "1    United States  0.9000  2018  USA   953.886271  61348.456596   \n",
      "2            Korea  0.8600  2018  KOR   674.351968  41965.890535   \n",
      "3     Saudi Arabia  0.6300  2018  SAU  3196.215539  47714.112577   \n",
      "4            China  0.6000  2018  CHN  1072.972610  15133.995618   \n",
      "..             ...     ...   ...  ...          ...           ...   \n",
      "110        Uruguay  0.2870  2013  URY   435.940891  22077.448301   \n",
      "111        Vietnam  0.0448  2006  VNM  2447.287701   5186.432065   \n",
      "112        Vietnam  0.0926  2010  VNM  2559.902685   6324.525636   \n",
      "113        Vietnam  0.1498  2014  VNM  2458.675875   7641.909252   \n",
      "117         Zambia  0.0199  2018  ZMB  1380.588720   3425.948936   \n",
      "\n",
      "     AC calculated  \n",
      "0         0.968338  \n",
      "1         0.997595  \n",
      "2         0.969153  \n",
      "3         0.985409  \n",
      "4         0.468835  \n",
      "..             ...  \n",
      "110       0.689884  \n",
      "111       0.190131  \n",
      "112       0.214562  \n",
      "113       0.245593  \n",
      "117       0.156628  \n",
      "\n",
      "[111 rows x 7 columns]\n"
     ]
    }
   ],
   "source": [
    "# Add column to ac_data with the fitted exposure function\n",
    "print(ac_data[\"GDP\"])\n",
    "ac_data[\"AC calculated\"] = sat(ac_data[\"CDD\"], popt[0]) * avail(ac_data[\"GDP\"], popt[1], popt[2])\n",
    "print(ac_data)"
   ]
  },
  {
   "cell_type": "code",
   "execution_count": 42,
   "metadata": {},
   "outputs": [
    {
     "data": {
      "image/png": "[encoded data removed]",
      "text/plain": [
       "<Figure size 640x480 with 1 Axes>"
      ]
     },
     "metadata": {},
     "output_type": "display_data"
    }
   ],
   "source": [
    "# Plot saturation function\n",
    "cdd = np.linspace(0, 4000, 100)\n",
    "plt.plot(cdd, sat(cdd, popt[0]))\n",
    "plt.xlabel(\"CDD\")\n",
    "plt.ylabel(\"AC saturation\")\n",
    "plt.show()"
   ]
  },
  {
   "cell_type": "code",
   "execution_count": 38,
   "metadata": {},
   "outputs": [
    {
     "data": {
      "text/plain": [
       "<matplotlib.legend.Legend at 0x7f4991943190>"
      ]
     },
     "execution_count": 38,
     "metadata": {},
     "output_type": "execute_result"
    },
    {
     "data": {
      "image/png": "[encoded data removed]",
      "text/plain": [
       "<Figure size 640x480 with 1 Axes>"
      ]
     },
     "metadata": {},
     "output_type": "display_data"
    }
   ],
   "source": [
    "# Plot the availability function\n",
    "fig, ax = plt.subplots()\n",
    "ax.plot(ac_data[\"GDP\"], ac_data[\"AC\"]/sat(ac_data[\"CDD\"], popt[0]), 'o', label=\"Data\", markersize=4)\n",
    "x = np.linspace(0, 100000, 1000)\n",
    "y = avail(x, popt[1], popt[2])\n",
    "ax.plot(x, y, label=\"Fit\")\n",
    "ax.set_xlabel(\"GDP [2017$]\")\n",
    "ax.set_ylabel(\"availability [%]\")\n",
    "ax.legend()"
   ]
  },
  {
   "cell_type": "code",
   "execution_count": null,
   "metadata": {},
   "outputs": [],
   "source": []
  },
  {
   "cell_type": "code",
   "execution_count": null,
   "metadata": {},
   "outputs": [],
   "source": []
  }
 ],
 "metadata": {
  "kernelspec": {
   "display_name": "experiencedT_env",
   "language": "python",
   "name": "python3"
  },
  "language_info": {
   "codemirror_mode": {
    "name": "ipython",
    "version": 3
   },
   "file_extension": ".py",
   "mimetype": "text/x-python",
   "name": "python",
   "nbconvert_exporter": "python",
   "pygments_lexer": "ipython3",
   "version": "3.10.13"
  }
 },
 "nbformat": 4,
 "nbformat_minor": 2
}
