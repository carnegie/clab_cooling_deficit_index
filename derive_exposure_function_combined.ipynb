{
 "cells": [
  {
   "cell_type": "code",
   "execution_count": 1,
   "metadata": {},
   "outputs": [],
   "source": [
    "import pandas as pd\n",
    "import numpy as np\n",
    "import yaml\n",
    "import pickle\n",
    "import logging\n",
    "import matplotlib.pyplot as plt\n",
    "from scipy.optimize import curve_fit\n",
    "import country_converter as coco\n",
    "from utilities.utilities import read_ac_data, read_gdp_data, read_cdd_data, saturation, availability, exposure_function, fill_missing_country_gdp_data\n",
    "from utilities.plotting import plot_exposure_contour"
   ]
  },
  {
   "cell_type": "code",
   "execution_count": 2,
   "metadata": {},
   "outputs": [],
   "source": [
    "# Load configuration from config.yaml\n",
    "with open(\"config.yaml\", \"r\") as f:\n",
    "    config = yaml.safe_load(f)\n",
    "\n",
    "# Set logging level\n",
    "logging.basicConfig(level=config[\"logging_level\"])"
   ]
  },
  {
   "cell_type": "code",
   "execution_count": 3,
   "metadata": {},
   "outputs": [],
   "source": [
    "# Read the cooling degree days data\n",
    "dd_data = read_cdd_data(config['ref_year'], config['cdd_historical_file'])\n",
    "\n",
    "# Read the GDP data\n",
    "gdp_data = read_gdp_data(str(config['ref_year']), config['gdp_historical_file'])\n",
    "gdp_data = fill_missing_country_gdp_data(config['ref_year'], gdp_data, config)\n",
    "\n",
    "# Merge the two dataframes\n",
    "merged_data = pd.merge(dd_data, gdp_data, on='ISO3')"
   ]
  },
  {
   "cell_type": "code",
   "execution_count": 7,
   "metadata": {},
   "outputs": [
    {
     "name": "stdout",
     "output_type": "stream",
     "text": [
      "  ISO3    AC      DD_mean           GDP\n",
      "0  JPN  0.91   481.315526  42599.096879\n",
      "1  USA  0.90   604.579562  62575.425728\n",
      "2  KOR  0.86   651.360792  42805.208346\n",
      "3  SAU  0.63  3187.489303  48668.394828\n",
      "4  CHN  0.60   533.091995  15436.675531\n",
      "5  MEX  0.16  1471.855206  20683.780633\n",
      "6  BRA  0.16  2508.361929  14911.982952\n",
      "7  IDN  0.09  2405.041162  11625.380029\n",
      "8  ZAF  0.06   927.694056  14270.121191\n",
      "9  IND  0.05  2615.146210   6564.876470\n"
     ]
    }
   ],
   "source": [
    "# Read the air conditioning data\n",
    "\n",
    "def read_ac_data_iea(infile):\n",
    "    # Add AC column to merged_data\n",
    "    ac_data = pd.read_csv(infile, skiprows=3)\n",
    "    # Name first column ISO3 and second column AC\n",
    "    ac_data = ac_data.rename(columns={ac_data.columns[0]: \"ISO3\", ac_data.columns[1]: \"AC\"})\n",
    "    # Rename country names to ISO3\n",
    "    ac_data[\"ISO3\"] = coco.convert(names=ac_data[\"ISO3\"].tolist(), to='ISO3')\n",
    "    # AC Given in percent\n",
    "    ac_data[\"AC\"] /= 100.\n",
    "    return ac_data\n",
    "\n",
    "def add_gdp_cdd_data(cdds, gdps, ac_df, year):\n",
    "    \"\"\"\n",
    "    Add GDP and CDD data to the ac_df dataframe\n",
    "    \"\"\"\n",
    "    # Read the cooling degree days data\n",
    "    dd_data = read_cdd_data(year, config['cdd_historical_file'])\n",
    "    # Read the GDP data\n",
    "    gdp_data = read_gdp_data(str(year), config['gdp_historical_file'])\n",
    "    # Add GDP and CDD data to the ac_df dataframe\n",
    "    ac_df = pd.merge(ac_df, dd_data, on='ISO3')\n",
    "    ac_df = pd.merge(ac_df, gdp_data, on='ISO3')\n",
    "    return ac_df\n",
    "\n",
    "\n",
    "\n",
    "ac_data = read_ac_data_iea(config['ac_historical_file_iea'])\n",
    "ac_data = add_gdp_cdd_data(dd_data, gdp_data, ac_data, 2018)\n",
    "print(ac_data)\n"
   ]
  },
  {
   "cell_type": "code",
   "execution_count": null,
   "metadata": {},
   "outputs": [],
   "source": []
  }
 ],
 "metadata": {
  "kernelspec": {
   "display_name": "experiencedT_env",
   "language": "python",
   "name": "python3"
  },
  "language_info": {
   "codemirror_mode": {
    "name": "ipython",
    "version": 3
   },
   "file_extension": ".py",
   "mimetype": "text/x-python",
   "name": "python",
   "nbconvert_exporter": "python",
   "pygments_lexer": "ipython3",
   "version": "3.10.13"
  }
 },
 "nbformat": 4,
 "nbformat_minor": 2
}
