{
 "cells": [
  {
   "cell_type": "code",
   "execution_count": null,
   "metadata": {},
   "outputs": [],
   "source": [
    "import os"
   ]
  },
  {
   "cell_type": "code",
   "execution_count": null,
   "metadata": {},
   "outputs": [],
   "source": [
    "# Load gridded datasets\n",
    "\n",
    "data_path = 'data_experiencedT/'\n",
    "\n",
    "# Population\n",
    "# Source: https://sedac.ciesin.columbia.edu/data/set/gpw-v4-population-density-adjusted-to-2015-unwpp-country-totals-rev11\n",
    "# Resolution: 1 degree\n",
    "pop_file = os.path.join(data_path, 'gpw_v4_population_density_adjusted_rev11_1_deg.nc')\n",
    "\n",
    "# GDP\n",
    "# Source: https://datadryad.org/stash/dataset/doi:10.5061/dryad.dk1j0\n",
    "# Resolution: 5 arc min = 1/12 degree\n",
    "gdp_file = os.path.join(data_path, 'GDP_per_capita_PPP_1990_2015_v2.nc')\n",
    "\n",
    "# Temperature\n",
    "# Source: https://cds.climate.copernicus.eu/cdsapp#!/dataset/reanalysis-era5-land?tab=overview\n",
    "# Resolution: 0.1 degree\n"
   ]
  }
 ],
 "metadata": {
  "language_info": {
   "name": "python"
  },
  "orig_nbformat": 4
 },
 "nbformat": 4,
 "nbformat_minor": 2
}
