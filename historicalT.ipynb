{
 "cells": [
  {
   "cell_type": "code",
   "execution_count": null,
   "metadata": {},
   "outputs": [
    {
     "ename": "",
     "evalue": "",
     "output_type": "error",
     "traceback": [
      "\u001b[1;31mRunning cells with '/usr/bin/python3' requires the ipykernel package.\n",
      "\u001b[1;31mRun the following command to install 'ipykernel' into the Python environment. \n",
      "\u001b[1;31mCommand: '/usr/bin/python3 -m pip install ipykernel -U --user --force-reinstall'"
     ]
    }
   ],
   "source": [
    "import os\n",
    "import netCDF4 as nc"
   ]
  },
  {
   "cell_type": "code",
   "execution_count": null,
   "metadata": {},
   "outputs": [
    {
     "ename": "",
     "evalue": "",
     "output_type": "error",
     "traceback": [
      "\u001b[1;31mRunning cells with '/usr/bin/python3' requires the ipykernel package.\n",
      "\u001b[1;31mRun the following command to install 'ipykernel' into the Python environment. \n",
      "\u001b[1;31mCommand: '/usr/bin/python3 -m pip install ipykernel -U --user --force-reinstall'"
     ]
    }
   ],
   "source": [
    "# Load gridded datasets\n",
    "\n",
    "data_path = 'data_experiencedT/'\n",
    "\n",
    "# Population\n",
    "# Source: https://sedac.ciesin.columbia.edu/data/set/gpw-v4-population-density-adjusted-to-2015-unwpp-country-totals-rev11\n",
    "# Resolution: 1 degree\n",
    "pop_file = os.path.join(data_path, 'gpw_v4_population_density_adjusted_rev11_1_deg.nc')\n",
    "\n",
    "# GDP\n",
    "# Source: https://datadryad.org/stash/dataset/doi:10.5061/dryad.dk1j0\n",
    "# Resolution: 5 arc min = 1/12 degree\n",
    "gdp_file = os.path.join(data_path, 'GDP_per_capita_PPP_1990_2015_v2.nc')\n",
    "\n",
    "# Temperature\n",
    "# Source: https://cds.climate.copernicus.eu/cdsapp#!/dataset/reanalysis-era5-land?tab=overview\n",
    "# Resolution: 0.1 degree\n",
    "era5_path = '/groups/carnegie_poc/leiduan_memex/lustre_scratch/MERRA2_data/ERA5_original_data/'\n",
    "\n",
    "for year in [\"2005\"]:\n",
    "    for month in [\"01\"]:\n",
    "        for day in [\"01\"]:\n",
    "            era5_file = os.path.join(era5_path, 'ERA5_{0}_{1}_{2}.nc'.format(year, month, day))\n",
    "\n",
    "            # Open the netCDF file\n",
    "            dataset = nc.Dataset(era5_file)\n",
    "\n",
    "            # Get the details of the file\n",
    "            file_details = {\n",
    "                \"dimensions\": dict(dataset.dimensions),\n",
    "                \"variables\": dict(dataset.variables),\n",
    "                \"attributes\": dict(dataset.__dict__)\n",
    "            }\n",
    "\n",
    "            print(file_details)\n",
    "\n"
   ]
  }
 ],
 "metadata": {
  "kernelspec": {
   "display_name": "Python 3",
   "language": "python",
   "name": "python3"
  },
  "language_info": {
   "name": "python",
   "version": "3.6.8"
  },
  "orig_nbformat": 4
 },
 "nbformat": 4,
 "nbformat_minor": 2
}
